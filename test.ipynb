{
 "cells": [
  {
   "cell_type": "code",
   "execution_count": null,
   "metadata": {},
   "outputs": [],
   "source": [
    "import torch\n",
    "from dreamsim import dreamsim\n",
    "from rating import preprocess_image"
   ]
  },
  {
   "cell_type": "code",
   "execution_count": null,
   "metadata": {},
   "outputs": [],
   "source": [
    "device = \"cuda\" if torch.cuda.is_available() else \"cpu\"\n",
    "model, preprocess = dreamsim(pretrained=True, device=device)\n",
    "\n",
    "img1 = preprocess_image(\"./img1.png\")\n",
    "img2 = preprocess_image(\"./img2.png\")\n",
    "\n",
    "similarity = model(img1, img2)\n",
    "print(similarity)"
   ]
  },
  {
   "cell_type": "code",
   "execution_count": null,
   "metadata": {},
   "outputs": [],
   "source": [
    "# 导入必要的库\n",
    "import matplotlib.pyplot as plt\n",
    "from PIL import Image\n",
    "import numpy as np\n",
    "import cv2\n",
    "\n",
    "def display_comparison(img_path1, img_path2, similarity_score):\n",
    "    \"\"\"\n",
    "    显示两张图片的对比和相似度分数\n",
    "    \"\"\"\n",
    "    # 读取图片\n",
    "    img1 = cv2.imread(img_path1)\n",
    "    img2 = cv2.imread(img_path2)\n",
    "    \n",
    "    if img1 is None or img2 is None:\n",
    "        print(f\"无法读取图片: {img_path1 if img1 is None else img_path2}\")\n",
    "        return\n",
    "    \n",
    "    # 转换为RGB (OpenCV默认是BGR)\n",
    "    img1 = cv2.cvtColor(img1, cv2.COLOR_BGR2RGB)\n",
    "    img2 = cv2.cvtColor(img2, cv2.COLOR_BGR2RGB)\n",
    "    \n",
    "    # 调整图片大小以便于显示\n",
    "    target_size = (224, 224)\n",
    "    \n",
    "    # 保持纵横比的调整大小函数\n",
    "    def resize_keep_aspect(img, target_size):\n",
    "        h, w = img.shape[:2]\n",
    "        ratio = min(target_size[0] / w, target_size[1] / h)\n",
    "        new_size = (int(w * ratio), int(h * ratio))\n",
    "        resized = cv2.resize(img, new_size, interpolation=cv2.INTER_AREA)\n",
    "        \n",
    "        # 创建白色画布\n",
    "        canvas = np.ones((target_size[1], target_size[0], 3), dtype=np.uint8) * 255\n",
    "        \n",
    "        # 居中放置图像\n",
    "        x_offset = (target_size[0] - new_size[0]) // 2\n",
    "        y_offset = (target_size[1] - new_size[1]) // 2\n",
    "        \n",
    "        canvas[y_offset:y_offset+new_size[1], x_offset:x_offset+new_size[0]] = resized\n",
    "        return canvas\n",
    "    \n",
    "    img1_resized = resize_keep_aspect(img1, target_size)\n",
    "    img2_resized = resize_keep_aspect(img2, target_size)\n",
    "    \n",
    "    # 创建图表\n",
    "    fig, (ax1, ax2) = plt.subplots(1, 2, figsize=(10, 5))\n",
    "    \n",
    "    # 显示图片\n",
    "    ax1.imshow(img1_resized)\n",
    "    ax1.set_title(\"图片1\")\n",
    "    ax1.axis('off')\n",
    "    \n",
    "    ax2.imshow(img2_resized)\n",
    "    ax2.set_title(\"图片2\")\n",
    "    ax2.axis('off')\n",
    "    \n",
    "    # 添加相似度分数\n",
    "    plt.suptitle(f\"相似度分数: {similarity_score:.4f}\", fontsize=16)\n",
    "    \n",
    "    plt.tight_layout()\n",
    "    plt.show()\n",
    "\n",
    "# 使用函数显示对比\n",
    "display_comparison(\"./img1.png\", \"./img2.png\", similarity.item())\n"
   ]
  }
 ],
 "metadata": {
  "kernelspec": {
   "display_name": "py311",
   "language": "python",
   "name": "python3"
  },
  "language_info": {
   "name": "python",
   "version": "3.11.5"
  }
 },
 "nbformat": 4,
 "nbformat_minor": 2
}
