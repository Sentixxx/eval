{
 "cells": [
  {
   "cell_type": "code",
   "execution_count": null,
   "metadata": {},
   "outputs": [],
   "source": [
    "import torch\n",
    "from dreamsim import dreamsim\n",
    "from rating import preprocess_image"
   ]
  },
  {
   "cell_type": "code",
   "execution_count": null,
   "metadata": {},
   "outputs": [],
   "source": [
    "device = \"cuda\" if torch.cuda.is_available() else \"cpu\"\n",
    "model, preprocess = dreamsim(pretrained=True, device=device)\n",
    "\n",
    "img1 = preprocess_image(\"./img1.png\")\n",
    "img2 = preprocess_image(\"./img2.png\")\n",
    "\n",
    "similarity = model(img1, img2)\n",
    "print(similarity)"
   ]
  },
  {
   "cell_type": "code",
   "execution_count": null,
   "metadata": {},
   "outputs": [],
   "source": [
    "# 导入必要的库\n",
    "import matplotlib.pyplot as plt\n",
    "from PIL import Image\n",
    "import numpy as np\n",
    "import cv2\n",
    "\n",
    "def display_comparison(img1, img2, similarity_score):\n",
    "    \"\"\"\n",
    "    显示两张图片的对比和相似度分数\n",
    "    \"\"\"\n",
    "    \n",
    "    # 创建图表\n",
    "    fig, (ax1, ax2) = plt.subplots(1, 2, figsize=(10, 5))\n",
    "    \n",
    "    # 显示图片\n",
    "    ax1.imshow(img1)\n",
    "    ax1.set_title(\"图片1\")\n",
    "    ax1.axis('off')\n",
    "    \n",
    "    ax2.imshow(img2)\n",
    "    ax2.set_title(\"图片2\")\n",
    "    ax2.axis('off')\n",
    "    \n",
    "    # 添加相似度分数\n",
    "    plt.suptitle(f\"相似度分数: {similarity_score:.4f}\", fontsize=16)\n",
    "    \n",
    "    plt.tight_layout()\n",
    "    plt.show()\n",
    "\n",
    "# 使用函数显示对比\n",
    "# 将张量转换为PIL图像用于显示\n",
    "img1_pil = Image.open(\"./img1.png\")\n",
    "img2_pil = Image.open(\"./img2.png\")\n",
    "\n",
    "# 确保相似度张量在CPU上并转换为标量\n",
    "similarity_cpu = similarity.cpu().item()\n",
    "\n",
    "display_comparison(img1_pil, img2_pil, similarity_cpu)\n"
   ]
  }
 ],
 "metadata": {
  "kernelspec": {
   "display_name": "py311",
   "language": "python",
   "name": "python3"
  },
  "language_info": {
   "name": "python",
   "version": "3.11.5"
  }
 },
 "nbformat": 4,
 "nbformat_minor": 2
}
